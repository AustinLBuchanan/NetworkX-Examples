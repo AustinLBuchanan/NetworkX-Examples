{
 "cells": [
  {
   "cell_type": "code",
   "execution_count": null,
   "metadata": {},
   "outputs": [],
   "source": [
    "import networkx as nx"
   ]
  },
  {
   "cell_type": "code",
   "execution_count": null,
   "metadata": {},
   "outputs": [],
   "source": [
    "# Read the Oklahoma county graph. It is stored in the file \"OK.graph\", with edges listed like this:\n",
    "# 0 23 \n",
    "# 0 30 \n",
    "# 0 47 \n",
    "# 0 76 \n",
    "# 1 5 \n",
    "# 1 8 \n",
    "# 1 23 \n",
    "# 1 33 \n",
    "# ...\n",
    "\n",
    "# County-level graphs for all states can be found here:\n",
    "# https://github.com/AustinLBuchanan/county-level-districting/tree/master/data\n",
    "\n",
    "# NetworkX has a built-in function for reading this kind of file:\n",
    "filepath = 'C:\\\\districting-data\\\\'\n",
    "filename = 'OK.graph'\n",
    "\n",
    "\n"
   ]
  },
  {
   "cell_type": "code",
   "execution_count": null,
   "metadata": {},
   "outputs": [],
   "source": [
    "# Print the graph's nodes\n",
    "\n"
   ]
  },
  {
   "cell_type": "code",
   "execution_count": null,
   "metadata": {},
   "outputs": [],
   "source": [
    "# Print the graph's edges\n",
    "\n"
   ]
  },
  {
   "cell_type": "code",
   "execution_count": null,
   "metadata": {},
   "outputs": [],
   "source": [
    "# Visualize the graph \n",
    "\n"
   ]
  },
  {
   "cell_type": "code",
   "execution_count": null,
   "metadata": {},
   "outputs": [],
   "source": []
  }
 ],
 "metadata": {
  "kernelspec": {
   "display_name": "Python 3",
   "language": "python",
   "name": "python3"
  },
  "language_info": {
   "codemirror_mode": {
    "name": "ipython",
    "version": 3
   },
   "file_extension": ".py",
   "mimetype": "text/x-python",
   "name": "python",
   "nbconvert_exporter": "python",
   "pygments_lexer": "ipython3",
   "version": "3.7.10"
  }
 },
 "nbformat": 4,
 "nbformat_minor": 4
}
