{
 "cells": [
  {
   "cell_type": "code",
   "execution_count": null,
   "metadata": {},
   "outputs": [],
   "source": [
    "import networkx as nx\n",
    "\n",
    "# Recall the contiguity graph for Delaware's counties:\n",
    "G = nx.Graph()\n",
    "\n",
    "G.add_node('New Castle')\n",
    "G.add_node('Kent')\n",
    "G.add_node('Sussex')\n",
    "\n",
    "G.add_edge('New Castle','Kent')\n",
    "G.add_edge('Kent','Sussex')\n",
    "\n",
    "print(\"The contiguity graph for Delaware's counties has nodes\",G.nodes,\"and edges\",G.edges)"
   ]
  },
  {
   "cell_type": "code",
   "execution_count": null,
   "metadata": {},
   "outputs": [],
   "source": [
    "# Add the county populations as node attributes\n",
    "#   Kent:        162,310\n",
    "#   New Castle:  538,479 \n",
    "#   Sussex:      197,145\n",
    "\n",
    "\n"
   ]
  },
  {
   "cell_type": "code",
   "execution_count": null,
   "metadata": {},
   "outputs": [],
   "source": [
    "# According to Google Maps, the road distances between adjacent counties are:\n",
    "#   New Castle -> Kent:  35.9 miles\n",
    "#   Kent -> Sussex:      37.0 miles\n",
    "#\n",
    "# Add these distances as edge attributes.\n",
    "\n",
    "\n"
   ]
  },
  {
   "cell_type": "code",
   "execution_count": null,
   "metadata": {},
   "outputs": [],
   "source": [
    "# Add the name of the state and the number of congressional districst as graph attributes\n",
    "\n"
   ]
  },
  {
   "cell_type": "code",
   "execution_count": null,
   "metadata": {},
   "outputs": [],
   "source": [
    "# Check if the graph is connected\n",
    "\n"
   ]
  },
  {
   "cell_type": "code",
   "execution_count": null,
   "metadata": {},
   "outputs": [],
   "source": [
    "# Check if the subgraph induced by New Castle and Kent is connected.\n",
    "#   In other words, see if G[D] is connected, where D = { New Castle, Kent }.\n",
    "\n"
   ]
  },
  {
   "cell_type": "code",
   "execution_count": null,
   "metadata": {},
   "outputs": [],
   "source": [
    "# Check if the subgraph induced by New Castle and Sussex is connected.\n",
    "#   In other words, see if G[D] is connected, where D = { New Castle, Sussex }.\n",
    "\n"
   ]
  },
  {
   "cell_type": "code",
   "execution_count": null,
   "metadata": {},
   "outputs": [],
   "source": [
    "# How many \"hops\" does it take to get from New Castle to the other counties?\n",
    "\n"
   ]
  },
  {
   "cell_type": "code",
   "execution_count": null,
   "metadata": {},
   "outputs": [],
   "source": [
    "# What is the distance from New Castle to others, taking edge lengths as distance_miles?\n",
    "\n"
   ]
  },
  {
   "cell_type": "code",
   "execution_count": null,
   "metadata": {},
   "outputs": [],
   "source": []
  }
 ],
 "metadata": {
  "kernelspec": {
   "display_name": "Python 3",
   "language": "python",
   "name": "python3"
  },
  "language_info": {
   "codemirror_mode": {
    "name": "ipython",
    "version": 3
   },
   "file_extension": ".py",
   "mimetype": "text/x-python",
   "name": "python",
   "nbconvert_exporter": "python",
   "pygments_lexer": "ipython3",
   "version": "3.7.10"
  }
 },
 "nbformat": 4,
 "nbformat_minor": 4
}
