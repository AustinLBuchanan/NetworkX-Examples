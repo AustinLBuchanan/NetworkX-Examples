{
 "cells": [
  {
   "cell_type": "code",
   "execution_count": null,
   "metadata": {},
   "outputs": [],
   "source": [
    "# GerryChain is a library for using Markov Chain Monte Carlo methods to study the problem of political redistricting. \n",
    "#   Development of the library began during the 2018 Voting Rights Data Institute (VRDI).\n",
    "#\n",
    "# Install instructions: https://gerrychain.readthedocs.io/en/latest/user/install.html\n",
    "\n",
    "from gerrychain import Graph"
   ]
  },
  {
   "cell_type": "code",
   "execution_count": null,
   "metadata": {},
   "outputs": [],
   "source": [
    "# Read Oklahoma county graph from the json file \"OK_county.json\"\n",
    "filepath = 'C:\\\\districting-data\\\\'\n",
    "filename = 'OK_county.json'\n",
    "\n",
    "# GerryChain has a built-in function for reading graphs of this type:\n",
    "\n"
   ]
  },
  {
   "cell_type": "code",
   "execution_count": null,
   "metadata": {},
   "outputs": [],
   "source": [
    "# Print the nodes\n",
    "\n"
   ]
  },
  {
   "cell_type": "code",
   "execution_count": null,
   "metadata": {},
   "outputs": [],
   "source": [
    "# For each node, print the node #, county name, and its population\n",
    "\n"
   ]
  },
  {
   "cell_type": "code",
   "execution_count": null,
   "metadata": {},
   "outputs": [],
   "source": [
    "# What nodes (counties) neighbor node 0 (Payne County)?\n",
    "\n"
   ]
  },
  {
   "cell_type": "code",
   "execution_count": null,
   "metadata": {},
   "outputs": [],
   "source": [
    "# GeoPandas is an open source project to make working with geospatial data in python easier. \n",
    "#  GeoPandas extends the datatypes used by pandas to allow spatial operations on geometric types. \n",
    "#  Geometric operations are performed by shapely. Geopandas further depends on fiona for file \n",
    "#  access and matplotlib for plotting.\n",
    "#\n",
    "# The goal of GeoPandas is to make working with geospatial data in python easier. It combines the \n",
    "# capabilities of pandas and shapely, providing geospatial operations in pandas and a high-level \n",
    "# interface to multiple geometries to shapely. GeoPandas enables you to easily do operations in \n",
    "# python that would otherwise require a spatial database such as PostGIS.\n",
    "\n",
    "import geopandas as gpd"
   ]
  },
  {
   "cell_type": "code",
   "execution_count": null,
   "metadata": {},
   "outputs": [],
   "source": [
    "# Read Oklahoma county shapefile from \"OK_county.shp\"\n",
    "filepath = 'C:\\\\districting-data\\\\'\n",
    "filename = 'OK_county.shp'\n",
    "\n",
    "# Read geopandas dataframe from file\n",
    "\n"
   ]
  },
  {
   "cell_type": "code",
   "execution_count": null,
   "metadata": {},
   "outputs": [],
   "source": [
    "# What would it look like on a map if Payne County (node 0) and its neighbors were a district?\n",
    "\n",
    "\n"
   ]
  },
  {
   "cell_type": "code",
   "execution_count": null,
   "metadata": {},
   "outputs": [],
   "source": []
  }
 ],
 "metadata": {
  "kernelspec": {
   "display_name": "Python 3",
   "language": "python",
   "name": "python3"
  },
  "language_info": {
   "codemirror_mode": {
    "name": "ipython",
    "version": 3
   },
   "file_extension": ".py",
   "mimetype": "text/x-python",
   "name": "python",
   "nbconvert_exporter": "python",
   "pygments_lexer": "ipython3",
   "version": "3.7.10"
  }
 },
 "nbformat": 4,
 "nbformat_minor": 4
}
