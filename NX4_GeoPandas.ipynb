{
 "cells": [
  {
   "cell_type": "code",
   "execution_count": 1,
   "metadata": {},
   "outputs": [],
   "source": [
    "# GerryChain is a library for using Markov Chain Monte Carlo methods to study the problem of political redistricting. \n",
    "#   Development of the library began during the 2018 Voting Rights Data Institute (VRDI).\n",
    "#\n",
    "# Install instructions: https://gerrychain.readthedocs.io/en/latest/user/install.html\n",
    "\n",
    "from gerrychain import Graph"
   ]
  },
  {
   "cell_type": "code",
   "execution_count": 2,
   "metadata": {},
   "outputs": [],
   "source": [
    "# Read Oklahoma county graph from the json file \"OK_county.json\"\n",
    "filepath = 'C:\\\\districting-data\\\\'\n",
    "filename = 'OK_county.json'\n",
    "\n",
    "# GerryChain has a built-in function for reading graphs of this type:\n",
    "G = Graph.from_json( filepath + filename )"
   ]
  },
  {
   "cell_type": "code",
   "execution_count": 3,
   "metadata": {},
   "outputs": [
    {
     "name": "stdout",
     "output_type": "stream",
     "text": [
      "The Oklahoma county graph has nodes [0, 1, 2, 3, 4, 5, 6, 7, 8, 9, 10, 11, 12, 13, 14, 15, 16, 17, 18, 19, 20, 21, 22, 23, 24, 25, 26, 27, 28, 29, 30, 31, 32, 33, 34, 35, 36, 37, 38, 39, 40, 41, 42, 43, 44, 45, 46, 47, 48, 49, 50, 51, 52, 53, 54, 55, 56, 57, 58, 59, 60, 61, 62, 63, 64, 65, 66, 67, 68, 69, 70, 71, 72, 73, 74, 75, 76]\n"
     ]
    }
   ],
   "source": [
    "# Print the nodes\n",
    "print(\"The Oklahoma county graph has nodes\",G.nodes)"
   ]
  },
  {
   "cell_type": "code",
   "execution_count": 4,
   "metadata": {},
   "outputs": [
    {
     "name": "stdout",
     "output_type": "stream",
     "text": [
      "Node 0 represents Payne County and its population in year 2010 was 77350\n",
      "Node 1 represents Caddo County and its population in year 2010 was 29600\n",
      "Node 2 represents Delaware County and its population in year 2010 was 41487\n",
      "Node 3 represents Marshall County and its population in year 2010 was 15840\n",
      "Node 4 represents Greer County and its population in year 2010 was 6239\n",
      "Node 5 represents Coal County and its population in year 2010 was 5925\n",
      "Node 6 represents Seminole County and its population in year 2010 was 25482\n",
      "Node 7 represents Murray County and its population in year 2010 was 13488\n",
      "Node 8 represents Jefferson County and its population in year 2010 was 6472\n",
      "Node 9 represents Tillman County and its population in year 2010 was 7992\n",
      "Node 10 represents McIntosh County and its population in year 2010 was 20252\n",
      "Node 11 represents Choctaw County and its population in year 2010 was 15205\n",
      "Node 12 represents Harper County and its population in year 2010 was 3685\n",
      "Node 13 represents Grant County and its population in year 2010 was 4527\n",
      "Node 14 represents Dewey County and its population in year 2010 was 4810\n",
      "Node 15 represents Oklahoma County and its population in year 2010 was 718633\n",
      "Node 16 represents Le Flore County and its population in year 2010 was 50384\n",
      "Node 17 represents Nowata County and its population in year 2010 was 10536\n",
      "Node 18 represents Texas County and its population in year 2010 was 20640\n",
      "Node 19 represents Okfuskee County and its population in year 2010 was 12191\n",
      "Node 20 represents Pontotoc County and its population in year 2010 was 37492\n",
      "Node 21 represents Roger Mills County and its population in year 2010 was 3647\n",
      "Node 22 represents Kiowa County and its population in year 2010 was 9446\n",
      "Node 23 represents Tulsa County and its population in year 2010 was 603403\n",
      "Node 24 represents Beckham County and its population in year 2010 was 22119\n",
      "Node 25 represents Atoka County and its population in year 2010 was 14182\n",
      "Node 26 represents Adair County and its population in year 2010 was 22683\n",
      "Node 27 represents Noble County and its population in year 2010 was 11561\n",
      "Node 28 represents Harmon County and its population in year 2010 was 2922\n",
      "Node 29 represents Major County and its population in year 2010 was 7527\n",
      "Node 30 represents Alfalfa County and its population in year 2010 was 5642\n",
      "Node 31 represents Craig County and its population in year 2010 was 15029\n",
      "Node 32 represents Love County and its population in year 2010 was 9423\n",
      "Node 33 represents Beaver County and its population in year 2010 was 5636\n",
      "Node 34 represents Pushmataha County and its population in year 2010 was 11572\n",
      "Node 35 represents Stephens County and its population in year 2010 was 45048\n",
      "Node 36 represents Mayes County and its population in year 2010 was 41259\n",
      "Node 37 represents Bryan County and its population in year 2010 was 42416\n",
      "Node 38 represents Kay County and its population in year 2010 was 46562\n",
      "Node 39 represents Muskogee County and its population in year 2010 was 70990\n",
      "Node 40 represents Jackson County and its population in year 2010 was 26446\n",
      "Node 41 represents Cimarron County and its population in year 2010 was 2475\n",
      "Node 42 represents Ellis County and its population in year 2010 was 4151\n",
      "Node 43 represents Ottawa County and its population in year 2010 was 31848\n",
      "Node 44 represents McClain County and its population in year 2010 was 34506\n",
      "Node 45 represents Grady County and its population in year 2010 was 52431\n",
      "Node 46 represents Blaine County and its population in year 2010 was 11943\n",
      "Node 47 represents Pittsburg County and its population in year 2010 was 45837\n",
      "Node 48 represents Woodward County and its population in year 2010 was 20081\n",
      "Node 49 represents Washington County and its population in year 2010 was 50976\n",
      "Node 50 represents Kingfisher County and its population in year 2010 was 15034\n",
      "Node 51 represents Comanche County and its population in year 2010 was 124098\n",
      "Node 52 represents Cotton County and its population in year 2010 was 6193\n",
      "Node 53 represents Custer County and its population in year 2010 was 27469\n",
      "Node 54 represents Garfield County and its population in year 2010 was 60580\n",
      "Node 55 represents Latimer County and its population in year 2010 was 11154\n",
      "Node 56 represents Washita County and its population in year 2010 was 11629\n",
      "Node 57 represents Creek County and its population in year 2010 was 69967\n",
      "Node 58 represents Hughes County and its population in year 2010 was 14003\n",
      "Node 59 represents Sequoyah County and its population in year 2010 was 42391\n",
      "Node 60 represents Haskell County and its population in year 2010 was 12769\n",
      "Node 61 represents Logan County and its population in year 2010 was 41848\n",
      "Node 62 represents Osage County and its population in year 2010 was 47472\n",
      "Node 63 represents Cherokee County and its population in year 2010 was 46987\n",
      "Node 64 represents Wagoner County and its population in year 2010 was 73085\n",
      "Node 65 represents Garvin County and its population in year 2010 was 27576\n",
      "Node 66 represents Lincoln County and its population in year 2010 was 34273\n",
      "Node 67 represents Cleveland County and its population in year 2010 was 255755\n",
      "Node 68 represents Canadian County and its population in year 2010 was 115541\n",
      "Node 69 represents Okmulgee County and its population in year 2010 was 40069\n",
      "Node 70 represents Woods County and its population in year 2010 was 8878\n",
      "Node 71 represents Carter County and its population in year 2010 was 47557\n",
      "Node 72 represents Johnston County and its population in year 2010 was 10957\n",
      "Node 73 represents Pawnee County and its population in year 2010 was 16577\n",
      "Node 74 represents Rogers County and its population in year 2010 was 86905\n",
      "Node 75 represents Pottawatomie County and its population in year 2010 was 69442\n",
      "Node 76 represents McCurtain County and its population in year 2010 was 33151\n"
     ]
    }
   ],
   "source": [
    "# For each node, print the node #, county name, and its population\n",
    "for node in G.nodes:\n",
    "    name = G.nodes[node][\"NAME10\"]\n",
    "    population = G.nodes[node]['TOTPOP']\n",
    "    print(\"Node\",node,\"represents\",name,\"County and its population in year 2010 was\",population)"
   ]
  },
  {
   "cell_type": "code",
   "execution_count": 6,
   "metadata": {},
   "outputs": [
    {
     "name": "stdout",
     "output_type": "stream",
     "text": [
      "The nodes that neighbor node 0 are: [66, 57, 61, 73, 27]\n",
      "The counties that neighbor Payne County are: ['Lincoln', 'Creek', 'Logan', 'Pawnee', 'Noble']\n"
     ]
    }
   ],
   "source": [
    "# What nodes (counties) neighbor node 0 (Payne County)?\n",
    "neighbors = [j for j in G.neighbors(0)]\n",
    "neighbor_names = [G.nodes[j][\"NAME10\"] for j in G.neighbors(0)]\n",
    "print(\"The nodes that neighbor node 0 are:\",neighbors)\n",
    "print(\"The counties that neighbor Payne County are:\",neighbor_names)"
   ]
  },
  {
   "cell_type": "code",
   "execution_count": 7,
   "metadata": {},
   "outputs": [],
   "source": [
    "# GeoPandas is an open source project to make working with geospatial data in python easier. \n",
    "#  GeoPandas extends the datatypes used by pandas to allow spatial operations on geometric types. \n",
    "#  Geometric operations are performed by shapely. Geopandas further depends on fiona for file \n",
    "#  access and matplotlib for plotting.\n",
    "#\n",
    "# The goal of GeoPandas is to make working with geospatial data in python easier. It combines the \n",
    "# capabilities of pandas and shapely, providing geospatial operations in pandas and a high-level \n",
    "# interface to multiple geometries to shapely. GeoPandas enables you to easily do operations in \n",
    "# python that would otherwise require a spatial database such as PostGIS.\n",
    "\n",
    "import geopandas as gpd"
   ]
  },
  {
   "cell_type": "code",
   "execution_count": 8,
   "metadata": {},
   "outputs": [],
   "source": [
    "# Read Oklahoma county shapefile from \"OK_county.shp\"\n",
    "filepath = 'C:\\\\districting-data\\\\'\n",
    "filename = 'OK_county.shp'\n",
    "\n",
    "# Read geopandas dataframe from file\n",
    "df = gpd.read_file( filepath + filename )  "
   ]
  },
  {
   "cell_type": "code",
   "execution_count": 9,
   "metadata": {},
   "outputs": [
    {
     "data": {
      "image/png": "[encoded data removed]",
      "text/plain": [
       "<Figure size 432x288 with 1 Axes>"
      ]
     },
     "metadata": {
      "needs_background": "light"
     },
     "output_type": "display_data"
    }
   ],
   "source": [
    "# What would it look like on a map if Payne County (node 0) and its neighbors were a district?\n",
    "district = [ 0 ] + [ j for j in G.neighbors(0) ]\n",
    "district_geoids = [ G.nodes[i][\"GEOID10\"] for i in district ]\n",
    "\n",
    "# For nodes in district, set their 'selected' values to 1. Set others to zero.\n",
    "df['selected'] = [1 if df['GEOID10'][u] in district_geoids else 0 for u in G.nodes]\n",
    "            \n",
    "my_figure = df.plot(column='selected').get_figure()"
   ]
  },
  {
   "cell_type": "code",
   "execution_count": null,
   "metadata": {},
   "outputs": [],
   "source": []
  }
 ],
 "metadata": {
  "kernelspec": {
   "display_name": "Python 3",
   "language": "python",
   "name": "python3"
  },
  "language_info": {
   "codemirror_mode": {
    "name": "ipython",
    "version": 3
   },
   "file_extension": ".py",
   "mimetype": "text/x-python",
   "name": "python",
   "nbconvert_exporter": "python",
   "pygments_lexer": "ipython3",
   "version": "3.7.10"
  }
 },
 "nbformat": 4,
 "nbformat_minor": 4
}
