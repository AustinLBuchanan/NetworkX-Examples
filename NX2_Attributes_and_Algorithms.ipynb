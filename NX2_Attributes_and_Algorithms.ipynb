{
 "cells": [
  {
   "cell_type": "code",
   "execution_count": 1,
   "metadata": {},
   "outputs": [
    {
     "name": "stdout",
     "output_type": "stream",
     "text": [
      "The contiguity graph for Delaware's counties has nodes ['New Castle', 'Kent', 'Sussex'] and edges [('New Castle', 'Kent'), ('Kent', 'Sussex')]\n"
     ]
    }
   ],
   "source": [
    "import networkx as nx\n",
    "\n",
    "# Recall the contiguity graph for Delaware's counties:\n",
    "G = nx.Graph()\n",
    "\n",
    "G.add_node('New Castle')\n",
    "G.add_node('Kent')\n",
    "G.add_node('Sussex')\n",
    "\n",
    "G.add_edge('New Castle','Kent')\n",
    "G.add_edge('Kent','Sussex')\n",
    "\n",
    "print(\"The contiguity graph for Delaware's counties has nodes\",G.nodes,\"and edges\",G.edges)"
   ]
  },
  {
   "cell_type": "code",
   "execution_count": 2,
   "metadata": {},
   "outputs": [
    {
     "name": "stdout",
     "output_type": "stream",
     "text": [
      "The population of New Castle is 538479\n",
      "The population of Kent is 162310\n",
      "The population of Sussex is 197145\n"
     ]
    }
   ],
   "source": [
    "# Add the county populations as node attributes\n",
    "#   Kent:        162,310\n",
    "#   New Castle:  538,479 \n",
    "#   Sussex:      197,145\n",
    "\n",
    "G.nodes['Kent']['population'] = 162310\n",
    "G.nodes['New Castle']['population'] = 538479\n",
    "G.nodes['Sussex']['population'] = 197145\n",
    "\n",
    "# print the populations\n",
    "for node in G.nodes:\n",
    "    print(\"The population of\",node,\"is\",G.nodes[node]['population'])"
   ]
  },
  {
   "cell_type": "code",
   "execution_count": 3,
   "metadata": {},
   "outputs": [
    {
     "name": "stdout",
     "output_type": "stream",
     "text": [
      "The distance in miles along edge ('New Castle', 'Kent') is 35.9\n",
      "The distance in miles along edge ('Kent', 'Sussex') is 37.0\n"
     ]
    }
   ],
   "source": [
    "# According to Google Maps, the road distances between adjacent counties are:\n",
    "#   New Castle -> Kent:  35.9 miles\n",
    "#   Kent -> Sussex:      37.0 miles\n",
    "#\n",
    "# Add these distances as edge attributes.\n",
    "\n",
    "G.edges['New Castle','Kent']['distance_miles'] = 35.9\n",
    "G.edges['Kent','Sussex']['distance_miles'] = 37.0\n",
    "\n",
    "# print them\n",
    "for edge in G.edges:\n",
    "    print(\"The distance in miles along edge\",edge,\"is\",G.edges[edge]['distance_miles'])"
   ]
  },
  {
   "cell_type": "code",
   "execution_count": 4,
   "metadata": {},
   "outputs": [
    {
     "name": "stdout",
     "output_type": "stream",
     "text": [
      "The state's name is Delaware\n",
      "The number of congressional districts is 1\n"
     ]
    }
   ],
   "source": [
    "# Add the name of the state and the number of congressional districst as graph attributes\n",
    "G.graph['state'] = 'Delaware'\n",
    "G.graph['congressional_districts'] = 1\n",
    "\n",
    "# print them\n",
    "print(\"The state's name is\",G.graph['state'])\n",
    "print(\"The number of congressional districts is\",G.graph['congressional_districts'])"
   ]
  },
  {
   "cell_type": "code",
   "execution_count": 5,
   "metadata": {},
   "outputs": [
    {
     "name": "stdout",
     "output_type": "stream",
     "text": [
      "Is the graph G connected? True\n"
     ]
    }
   ],
   "source": [
    "# Check if the graph is connected\n",
    "print(\"Is the graph G connected?\",nx.is_connected(G))"
   ]
  },
  {
   "cell_type": "code",
   "execution_count": 12,
   "metadata": {},
   "outputs": [
    {
     "name": "stdout",
     "output_type": "stream",
     "text": [
      "If D = ['New Castle', 'Kent'] is the graph G[D] connected? True\n"
     ]
    }
   ],
   "source": [
    "# Check if the subgraph induced by New Castle and Kent is connected.\n",
    "#   In other words, see if G[D] is connected, where D = { New Castle, Kent }.\n",
    "\n",
    "D = ['New Castle', 'Kent']\n",
    "print(\"If D =\",D,\"is the graph G[D] connected?\",nx.is_connected(G.subgraph(D)))"
   ]
  },
  {
   "cell_type": "code",
   "execution_count": 13,
   "metadata": {},
   "outputs": [
    {
     "name": "stdout",
     "output_type": "stream",
     "text": [
      "If D = ['New Castle', 'Sussex'] is the graph G[D] connected? False\n"
     ]
    }
   ],
   "source": [
    "# Check if the subgraph induced by New Castle and Sussex is connected.\n",
    "#   In other words, see if G[D] is connected, where D = { New Castle, Sussex }.\n",
    "\n",
    "D = ['New Castle', 'Sussex']\n",
    "print(\"If D =\",D,\"is the graph G[D] connected?\",nx.is_connected(G.subgraph(D)))"
   ]
  },
  {
   "cell_type": "code",
   "execution_count": 9,
   "metadata": {},
   "outputs": [
    {
     "name": "stdout",
     "output_type": "stream",
     "text": [
      "The number of hops from New Castle to New Castle is 0\n",
      "The number of hops from New Castle to Kent is 1\n",
      "The number of hops from New Castle to Sussex is 2\n"
     ]
    }
   ],
   "source": [
    "# How many \"hops\" does it take to get from New Castle to the other counties?\n",
    "dist = nx.shortest_path_length(G,source='New Castle')\n",
    "\n",
    "for node in G.nodes:\n",
    "    print(\"The number of hops from New Castle to\",node,\"is\",dist[node])"
   ]
  },
  {
   "cell_type": "code",
   "execution_count": 10,
   "metadata": {},
   "outputs": [
    {
     "name": "stdout",
     "output_type": "stream",
     "text": [
      "The edge-weighted distance from New Castle to New Castle is 0\n",
      "The edge-weighted distance from New Castle to Kent is 35.9\n",
      "The edge-weighted distance from New Castle to Sussex is 72.9\n"
     ]
    }
   ],
   "source": [
    "# What is the distance from New Castle to others, taking edge lengths as distance_miles?\n",
    "dist = nx.shortest_path_length(G,source='New Castle',weight='distance_miles')\n",
    "\n",
    "for node in G.nodes:\n",
    "    print(\"The edge-weighted distance from New Castle to\",node,\"is\",dist[node])"
   ]
  },
  {
   "cell_type": "code",
   "execution_count": null,
   "metadata": {},
   "outputs": [],
   "source": []
  }
 ],
 "metadata": {
  "kernelspec": {
   "display_name": "Python 3",
   "language": "python",
   "name": "python3"
  },
  "language_info": {
   "codemirror_mode": {
    "name": "ipython",
    "version": 3
   },
   "file_extension": ".py",
   "mimetype": "text/x-python",
   "name": "python",
   "nbconvert_exporter": "python",
   "pygments_lexer": "ipython3",
   "version": "3.7.10"
  }
 },
 "nbformat": 4,
 "nbformat_minor": 4
}
