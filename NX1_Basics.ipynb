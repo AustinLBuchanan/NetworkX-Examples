{
 "cells": [
  {
   "cell_type": "code",
   "execution_count": 1,
   "metadata": {},
   "outputs": [],
   "source": [
    "# NetworkX is a Python package for the creation, manipulation, and study \n",
    "#    of the structure, dynamics, and functions of complex networks.\n",
    "#\n",
    "# Install instructions: https://networkx.org/documentation/latest/install.html\n",
    "#\n",
    "# More tutorials: https://networkx.org/documentation/latest/tutorial.html\n",
    "\n",
    "import networkx as nx"
   ]
  },
  {
   "cell_type": "code",
   "execution_count": 2,
   "metadata": {},
   "outputs": [
    {
     "name": "stdout",
     "output_type": "stream",
     "text": [
      "So far, the graph G has nodes [] and edges []\n"
     ]
    }
   ],
   "source": [
    "# Let's create a graph that looks like this: 1-2-3-4\n",
    "\n",
    "# first, create the graph object G:\n",
    "G = nx.Graph()\n",
    "\n",
    "print(\"So far, the graph G has nodes\",G.nodes,\"and edges\",G.edges)"
   ]
  },
  {
   "cell_type": "code",
   "execution_count": 3,
   "metadata": {},
   "outputs": [
    {
     "name": "stdout",
     "output_type": "stream",
     "text": [
      "So far, the graph G has nodes [1, 2, 3, 4] and edges []\n"
     ]
    }
   ],
   "source": [
    "# next, add the nodes:\n",
    "G.add_node(1)\n",
    "G.add_node(2)\n",
    "G.add_node(3)\n",
    "G.add_node(4)\n",
    "\n",
    "print(\"So far, the graph G has nodes\",G.nodes,\"and edges\",G.edges)"
   ]
  },
  {
   "cell_type": "code",
   "execution_count": 4,
   "metadata": {},
   "outputs": [
    {
     "name": "stdout",
     "output_type": "stream",
     "text": [
      "So far, the graph G has nodes [1, 2, 3, 4] and edges [(1, 2), (2, 3), (3, 4)]\n"
     ]
    }
   ],
   "source": [
    "# next, add the edges:\n",
    "G.add_edge(1,2)\n",
    "G.add_edge(2,3)\n",
    "G.add_edge(3,4)\n",
    "\n",
    "print(\"So far, the graph G has nodes\",G.nodes,\"and edges\",G.edges)"
   ]
  },
  {
   "cell_type": "code",
   "execution_count": 5,
   "metadata": {},
   "outputs": [
    {
     "name": "stdout",
     "output_type": "stream",
     "text": [
      "At the end, the graph G has 4 nodes and 3 edges.\n"
     ]
    }
   ],
   "source": [
    "# How many nodes and edges are there?\n",
    "print(\"At the end, the graph G has\",G.number_of_nodes(),\"nodes and\",G.number_of_edges(),\"edges.\")"
   ]
  },
  {
   "cell_type": "code",
   "execution_count": 6,
   "metadata": {},
   "outputs": [
    {
     "name": "stdout",
     "output_type": "stream",
     "text": [
      "The neighbors of node 1 are: [2]\n"
     ]
    }
   ],
   "source": [
    "# which nodes touch node 1?\n",
    "print(\"The neighbors of node 1 are:\",list(G.neighbors(1)) )"
   ]
  },
  {
   "cell_type": "code",
   "execution_count": 7,
   "metadata": {},
   "outputs": [
    {
     "name": "stdout",
     "output_type": "stream",
     "text": [
      "The neighbors of node 2 are: [1, 3]\n"
     ]
    }
   ],
   "source": [
    "# which nodes touch node 2?\n",
    "print(\"The neighbors of node 2 are:\",list(G.neighbors(2)) )"
   ]
  },
  {
   "cell_type": "code",
   "execution_count": 8,
   "metadata": {},
   "outputs": [
    {
     "name": "stdout",
     "output_type": "stream",
     "text": [
      "The graph H has nodes [0, 1, 2, 3] and edges [(0, 1), (1, 2), (2, 3)]\n"
     ]
    }
   ],
   "source": [
    "# Use the networkx path_graph function to create (essentially) the same graph:\n",
    "H = nx.path_graph(4)\n",
    "\n",
    "print(\"The graph H has nodes\",H.nodes,\"and edges\",H.edges)"
   ]
  },
  {
   "cell_type": "code",
   "execution_count": 9,
   "metadata": {},
   "outputs": [
    {
     "name": "stdout",
     "output_type": "stream",
     "text": [
      "The contiguity graph for Delaware's counties has nodes ['New Castle', 'Kent', 'Sussex'] and edges [('New Castle', 'Kent'), ('Kent', 'Sussex')]\n"
     ]
    }
   ],
   "source": [
    "# Create the contiguity graph for Delaware's 3 counties:\n",
    "#   New Castle, Kent, and Sussex.\n",
    "# \n",
    "# Instead of numbering the nodes, use county names.\n",
    "#\n",
    "# https://en.wikipedia.org/wiki/List_of_counties_in_Delaware\n",
    "\n",
    "G_Delaware = nx.Graph()\n",
    "\n",
    "G_Delaware.add_node('New Castle')\n",
    "G_Delaware.add_node('Kent')\n",
    "G_Delaware.add_node('Sussex')\n",
    "\n",
    "G_Delaware.add_edge('New Castle','Kent')\n",
    "G_Delaware.add_edge('Kent','Sussex')\n",
    "\n",
    "print(\"The contiguity graph for Delaware's counties has nodes\",G_Delaware.nodes,\"and edges\",G_Delaware.edges)"
   ]
  },
  {
   "cell_type": "code",
   "execution_count": 10,
   "metadata": {},
   "outputs": [
    {
     "name": "stdout",
     "output_type": "stream",
     "text": [
      "The neighbors of node Kent are: ['New Castle', 'Sussex']\n"
     ]
    }
   ],
   "source": [
    "# Which counties does Kent County touch?\n",
    "print(\"The neighbors of node Kent are:\",list(G_Delaware.neighbors('Kent')) )"
   ]
  },
  {
   "cell_type": "code",
   "execution_count": null,
   "metadata": {},
   "outputs": [],
   "source": []
  }
 ],
 "metadata": {
  "kernelspec": {
   "display_name": "Python 3",
   "language": "python",
   "name": "python3"
  },
  "language_info": {
   "codemirror_mode": {
    "name": "ipython",
    "version": 3
   },
   "file_extension": ".py",
   "mimetype": "text/x-python",
   "name": "python",
   "nbconvert_exporter": "python",
   "pygments_lexer": "ipython3",
   "version": "3.7.10"
  }
 },
 "nbformat": 4,
 "nbformat_minor": 4
}
